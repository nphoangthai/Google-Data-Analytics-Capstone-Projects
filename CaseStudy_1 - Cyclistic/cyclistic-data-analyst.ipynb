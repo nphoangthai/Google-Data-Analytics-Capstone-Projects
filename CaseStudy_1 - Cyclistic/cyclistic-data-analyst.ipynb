{
 "cells": [
  {
   "cell_type": "markdown",
   "id": "e1c12048",
   "metadata": {},
   "source": [
    "# INTRODUCTION"
   ]
  },
  {
   "cell_type": "markdown",
   "id": "a746f25c",
   "metadata": {},
   "source": [
    "This case study is the Capstone Project of **Google Data Analytics Professional Certificate**. The **6 steps of Data Analysis** is used to present this analysis.\n",
    "\n",
    "`Title`: **Cyclistic**\n",
    "\n",
    "`Author`: Nguyen Pham Hoang Thai\n",
    "\n",
    "`Date`: Feb 22 2023\n",
    "\n",
    "`Find me on`:\n",
    "- [Linkedin](https://www.linkedin.com/in/nphoangthaiwork/)\n",
    "- [Github](https://github.com/nphoangthai)"
   ]
  },
  {
   "cell_type": "markdown",
   "id": "d5131035",
   "metadata": {},
   "source": [
    "-------------------"
   ]
  },
  {
   "cell_type": "markdown",
   "id": "3dc02ee7",
   "metadata": {},
   "source": [
    "## How Does a Bike-Share Navigate Speedy Success?"
   ]
  },
  {
   "cell_type": "markdown",
   "id": "ca1bc9a7",
   "metadata": {},
   "source": [
    "# STEP 1: ASK"
   ]
  },
  {
   "cell_type": "markdown",
   "id": "cc776760",
   "metadata": {},
   "source": [
    "## 1.1 Background"
   ]
  },
  {
   "cell_type": "markdown",
   "id": "35618001",
   "metadata": {},
   "source": [
    "In 2016, Cyclistic launched a successful bike-share offering. Since then, the program has grown to a fleet of 5,824 bicycles that are geotracked and locked into a network of 692 stations across Chicago. The bikes can be unlocked from one station and returned to any other station in the system anytime.\n",
    "\n",
    "Until now, Cyclistic’s marketing strategy relied on building general awareness and appealing to broad consumer segments. One approach that helped make these things possible was the flexibility of its pricing plans: single-ride passes, full-day passes, and annual memberships. Customers who purchase single-ride or full-day passes are referred to as casual riders. Customers who purchase annual memberships are Cyclistic members.\n",
    "\n",
    "Cyclistic’s finance analysts have concluded that annual members are much more profitable than casual riders. Although the pricing flexibility helps Cyclistic attract more customers, Moreno believes that maximizing the number of annual members will be key to future growth. Rather than creating a marketing campaign that targets all-new customers, Moreno believes there is a very good chance to convert casual riders into members. She notes that casual riders are already aware of the Cyclistic program and have chosen Cyclistic for their mobility needs.\n",
    "\n",
    "Moreno has set a clear goal: Design marketing strategies aimed at converting casual riders into annual members. In order to do that, however, the marketing analyst team needs to better understand how annual members and casual riders differ, why casual riders would buy a membership, and how digital media could affect their marketing tactics. Moreno and her team are interested in analyzing the Cyclistic historical bike trip data to identify trends."
   ]
  },
  {
   "cell_type": "markdown",
   "id": "a8575272",
   "metadata": {},
   "source": [
    "## 1.2 Business Task"
   ]
  },
  {
   "cell_type": "markdown",
   "id": "da71afc9",
   "metadata": {},
   "source": [
    "Analyze Cyclistic Trip Data to gain insights into casual riders and annual members' behaviour when using Cyclistic bike-sharing service. Furthermore, find out the reason why customers chose to upgrade to annual membership for future marketing campaign."
   ]
  },
  {
   "cell_type": "markdown",
   "id": "dababae7",
   "metadata": {},
   "source": [
    "## 1.3 Business Objectives"
   ]
  },
  {
   "cell_type": "markdown",
   "id": "23ec35eb",
   "metadata": {},
   "source": [
    "1. How do annual members and casual riders use Cyclistic bikes differently?\n",
    "2. Why would casual riders buy Cyclistic annual memberships?\n",
    "3. How can Cyclistic use digital media to influence casual riders to become members?"
   ]
  },
  {
   "cell_type": "markdown",
   "id": "e714506e",
   "metadata": {},
   "source": [
    "## 1.4 Deliverables"
   ]
  },
  {
   "cell_type": "markdown",
   "id": "316b2314",
   "metadata": {},
   "source": [
    "1. A clear statement of the business task\n",
    "2. A description of all data sources used\n",
    "3. Documentation of any cleaning or manipulation of data\n",
    "4. A summary of your analysis\n",
    "5. Supporting visualizations and key findings\n",
    "6. Your top three recommendations based on your analysis"
   ]
  },
  {
   "cell_type": "markdown",
   "id": "dc233eea",
   "metadata": {},
   "source": [
    "## 1.5 Key Stakeholders"
   ]
  },
  {
   "cell_type": "markdown",
   "id": "08997ebe",
   "metadata": {},
   "source": [
    "**`Cyclistic`**: A bike-share program that features more than 5,800 bicycles and 600 docking stations. Cyclistic sets itself apart by also offering reclining bikes, hand tricycles, and cargo bikes, making bike-share more inclusive to people with disabilities and riders who can’t use a standard two-wheeled bike. The majority of riders opt for traditional bikes; about 8% of riders use the assistive options. Cyclistic users are more likely to ride for leisure, but about 30% use them to commute to work each day.\n",
    "\n",
    "**`Lily Moreno`**: The director of marketing and your manager. Moreno is responsible for the development of campaigns and initiatives to promote the bike-share program. These may include email, social media, and other channels.\n",
    "\n",
    "**`Cyclistic marketing analytics team`**: A team of data analysts who are responsible for collecting, analyzing, and reporting data that helps guide Cyclistic marketing strategy. You joined this team six months ago and have been busy learning about Cyclistic’s mission and business goals — as well as how you, as a junior data analyst, can help Cyclistic achieve them.\n",
    "\n",
    "**`Cyclistic executive team`**: The notoriously detail-oriented executive team will decide whether to approve the recommended marketing program."
   ]
  },
  {
   "cell_type": "markdown",
   "id": "eca19600",
   "metadata": {},
   "source": [
    "----------------------"
   ]
  },
  {
   "cell_type": "markdown",
   "id": "1f58c86e",
   "metadata": {},
   "source": [
    "# STEP 2: PREPARE"
   ]
  },
  {
   "cell_type": "markdown",
   "id": "537a789b",
   "metadata": {},
   "source": [
    "## Where is the data located?"
   ]
  },
  {
   "cell_type": "markdown",
   "id": "a3eeb76c",
   "metadata": {},
   "source": [
    "The data is stored [online](https://divvy-tripdata.s3.amazonaws.com/index.html), provided by Motivate International Inc, under this [license](https://ride.divvybikes.com/data-license-agreement)."
   ]
  },
  {
   "cell_type": "markdown",
   "id": "e065289b",
   "metadata": {},
   "source": [
    "## How is the data organized?"
   ]
  },
  {
   "cell_type": "markdown",
   "id": "adda6e0e",
   "metadata": {},
   "source": [
    "The data include 4 ZIP files, under the name `Divvy_Trips_2019_Q1.zip`, `Divvy_Trips_2019_Q2.zip`, `Divvy_Trips_2019_Q3.zip`, `Divvy_Trips_2019_Q4.zip`.\n",
    "\n",
    "These files store one `.CSV` file about trip data in each quarter.\n",
    "\n",
    "To simplify the analysis, I have merged all of these files into `Divvy_Trips_2019.csv`, which you can find in the `Data` folder."
   ]
  },
  {
   "cell_type": "markdown",
   "id": "f3e40ae0",
   "metadata": {},
   "source": [
    "## Is the data ROCCC?"
   ]
  },
  {
   "cell_type": "markdown",
   "id": "b58b216f",
   "metadata": {},
   "source": [
    "A good data source is ROCCC which stands for **R**eliable, **O**riginal, **C**omprehensive, **C**urrent, and **C**ited."
   ]
  },
  {
   "cell_type": "markdown",
   "id": "45f6a806",
   "metadata": {},
   "source": [
    "1. `Reliable` - HIGH - The data is owned by the City of Chicago.\n",
    "2. `Original` - MED - Second party provider (Lyft Bikes and Scooters, LLC (“Bikeshare”))\n",
    "3. `Comprehensive` - MED - Parameters match most of Bellabeat's products' parameters\n",
    "4. `Current` - LOW - The data is 4 years old and is not relevant\n",
    "5. `Cited` - HIGH - The data is provided with a license"
   ]
  },
  {
   "cell_type": "markdown",
   "id": "4b7e7d32",
   "metadata": {},
   "source": [
    "Overall, the dataset is appropriate for this case study. "
   ]
  },
  {
   "cell_type": "markdown",
   "id": "611e1c6b",
   "metadata": {},
   "source": [
    "---------------------"
   ]
  },
  {
   "cell_type": "markdown",
   "id": "e7887aaa",
   "metadata": {},
   "source": [
    "# STEP 3: PROCESS"
   ]
  },
  {
   "cell_type": "markdown",
   "id": "70ad6274",
   "metadata": {},
   "source": [
    "For this case study, I'll be using `Python` for the remaining steps of the data analysis."
   ]
  },
  {
   "cell_type": "markdown",
   "id": "ed449852",
   "metadata": {},
   "source": [
    "## Prepare the Environment"
   ]
  },
  {
   "cell_type": "code",
   "execution_count": 21,
   "id": "31e4b65f",
   "metadata": {},
   "outputs": [],
   "source": [
    "# import packages and alias\n",
    "import numpy as np # data arrays\n",
    "import pandas as pd # data structure and data analysis\n",
    "import matplotlib as plt # data visualization\n",
    "import datetime as dt # date time\n",
    "\n",
    "import matplotlib.pyplot as plt\n",
    "import seaborn as sb"
   ]
  },
  {
   "cell_type": "markdown",
   "id": "fc8ffe95",
   "metadata": {},
   "source": [
    "## Importing dataset"
   ]
  },
  {
   "cell_type": "code",
   "execution_count": 154,
   "id": "775ba466",
   "metadata": {},
   "outputs": [],
   "source": [
    "trip_data = pd.read_csv(\"Data/Divvy_Trips_2019.csv\")"
   ]
  },
  {
   "cell_type": "markdown",
   "id": "56b6269e",
   "metadata": {},
   "source": [
    "## First Look at the Data"
   ]
  },
  {
   "cell_type": "markdown",
   "id": "ccfbacb7",
   "metadata": {},
   "source": [
    "### Dataset size"
   ]
  },
  {
   "cell_type": "code",
   "execution_count": 155,
   "id": "6121f359",
   "metadata": {},
   "outputs": [
    {
     "data": {
      "text/html": [
       "<div>\n",
       "<style scoped>\n",
       "    .dataframe tbody tr th:only-of-type {\n",
       "        vertical-align: middle;\n",
       "    }\n",
       "\n",
       "    .dataframe tbody tr th {\n",
       "        vertical-align: top;\n",
       "    }\n",
       "\n",
       "    .dataframe thead th {\n",
       "        text-align: right;\n",
       "    }\n",
       "</style>\n",
       "<table border=\"1\" class=\"dataframe\">\n",
       "  <thead>\n",
       "    <tr style=\"text-align: right;\">\n",
       "      <th></th>\n",
       "      <th>trip_id</th>\n",
       "      <th>start_time</th>\n",
       "      <th>end_time</th>\n",
       "      <th>bikeid</th>\n",
       "      <th>tripduration</th>\n",
       "      <th>from_station_id</th>\n",
       "      <th>from_station_name</th>\n",
       "      <th>to_station_id</th>\n",
       "      <th>to_station_name</th>\n",
       "      <th>usertype</th>\n",
       "      <th>gender</th>\n",
       "      <th>birthyear</th>\n",
       "    </tr>\n",
       "  </thead>\n",
       "  <tbody>\n",
       "    <tr>\n",
       "      <th>0</th>\n",
       "      <td>21742443</td>\n",
       "      <td>2019-01-01 00:04:37</td>\n",
       "      <td>2019-01-01 00:11:07</td>\n",
       "      <td>2167</td>\n",
       "      <td>390.0</td>\n",
       "      <td>199</td>\n",
       "      <td>Wabash Ave &amp; Grand Ave</td>\n",
       "      <td>84</td>\n",
       "      <td>Milwaukee Ave &amp; Grand Ave</td>\n",
       "      <td>Subscriber</td>\n",
       "      <td>Male</td>\n",
       "      <td>1989.0</td>\n",
       "    </tr>\n",
       "    <tr>\n",
       "      <th>1</th>\n",
       "      <td>21742444</td>\n",
       "      <td>2019-01-01 00:08:13</td>\n",
       "      <td>2019-01-01 00:15:34</td>\n",
       "      <td>4386</td>\n",
       "      <td>441.0</td>\n",
       "      <td>44</td>\n",
       "      <td>State St &amp; Randolph St</td>\n",
       "      <td>624</td>\n",
       "      <td>Dearborn St &amp; Van Buren St (*)</td>\n",
       "      <td>Subscriber</td>\n",
       "      <td>Female</td>\n",
       "      <td>1990.0</td>\n",
       "    </tr>\n",
       "    <tr>\n",
       "      <th>2</th>\n",
       "      <td>21742445</td>\n",
       "      <td>2019-01-01 00:13:23</td>\n",
       "      <td>2019-01-01 00:27:12</td>\n",
       "      <td>1524</td>\n",
       "      <td>829.0</td>\n",
       "      <td>15</td>\n",
       "      <td>Racine Ave &amp; 18th St</td>\n",
       "      <td>644</td>\n",
       "      <td>Western Ave &amp; Fillmore St (*)</td>\n",
       "      <td>Subscriber</td>\n",
       "      <td>Female</td>\n",
       "      <td>1994.0</td>\n",
       "    </tr>\n",
       "    <tr>\n",
       "      <th>3</th>\n",
       "      <td>21742446</td>\n",
       "      <td>2019-01-01 00:13:45</td>\n",
       "      <td>2019-01-01 00:43:28</td>\n",
       "      <td>252</td>\n",
       "      <td>1,783.0</td>\n",
       "      <td>123</td>\n",
       "      <td>California Ave &amp; Milwaukee Ave</td>\n",
       "      <td>176</td>\n",
       "      <td>Clark St &amp; Elm St</td>\n",
       "      <td>Subscriber</td>\n",
       "      <td>Male</td>\n",
       "      <td>1993.0</td>\n",
       "    </tr>\n",
       "    <tr>\n",
       "      <th>4</th>\n",
       "      <td>21742447</td>\n",
       "      <td>2019-01-01 00:14:52</td>\n",
       "      <td>2019-01-01 00:20:56</td>\n",
       "      <td>1170</td>\n",
       "      <td>364.0</td>\n",
       "      <td>173</td>\n",
       "      <td>Mies van der Rohe Way &amp; Chicago Ave</td>\n",
       "      <td>35</td>\n",
       "      <td>Streeter Dr &amp; Grand Ave</td>\n",
       "      <td>Subscriber</td>\n",
       "      <td>Male</td>\n",
       "      <td>1994.0</td>\n",
       "    </tr>\n",
       "    <tr>\n",
       "      <th>...</th>\n",
       "      <td>...</td>\n",
       "      <td>...</td>\n",
       "      <td>...</td>\n",
       "      <td>...</td>\n",
       "      <td>...</td>\n",
       "      <td>...</td>\n",
       "      <td>...</td>\n",
       "      <td>...</td>\n",
       "      <td>...</td>\n",
       "      <td>...</td>\n",
       "      <td>...</td>\n",
       "      <td>...</td>\n",
       "    </tr>\n",
       "    <tr>\n",
       "      <th>3817999</th>\n",
       "      <td>25962900</td>\n",
       "      <td>2019-12-31 23:56:13</td>\n",
       "      <td>2020-01-01 00:15:45</td>\n",
       "      <td>2196</td>\n",
       "      <td>1,172.0</td>\n",
       "      <td>112</td>\n",
       "      <td>Green St &amp; Randolph St</td>\n",
       "      <td>225</td>\n",
       "      <td>Halsted St &amp; Dickens Ave</td>\n",
       "      <td>Subscriber</td>\n",
       "      <td>Male</td>\n",
       "      <td>1981.0</td>\n",
       "    </tr>\n",
       "    <tr>\n",
       "      <th>3818000</th>\n",
       "      <td>25962901</td>\n",
       "      <td>2019-12-31 23:56:34</td>\n",
       "      <td>2020-01-01 00:22:08</td>\n",
       "      <td>4877</td>\n",
       "      <td>1,533.0</td>\n",
       "      <td>90</td>\n",
       "      <td>Millennium Park</td>\n",
       "      <td>90</td>\n",
       "      <td>Millennium Park</td>\n",
       "      <td>Subscriber</td>\n",
       "      <td>Male</td>\n",
       "      <td>1992.0</td>\n",
       "    </tr>\n",
       "    <tr>\n",
       "      <th>3818001</th>\n",
       "      <td>25962902</td>\n",
       "      <td>2019-12-31 23:57:05</td>\n",
       "      <td>2020-01-01 00:05:46</td>\n",
       "      <td>863</td>\n",
       "      <td>520.0</td>\n",
       "      <td>623</td>\n",
       "      <td>Michigan Ave &amp; 8th St</td>\n",
       "      <td>52</td>\n",
       "      <td>Michigan Ave &amp; Lake St</td>\n",
       "      <td>Subscriber</td>\n",
       "      <td>Male</td>\n",
       "      <td>1967.0</td>\n",
       "    </tr>\n",
       "    <tr>\n",
       "      <th>3818002</th>\n",
       "      <td>25962903</td>\n",
       "      <td>2019-12-31 23:57:11</td>\n",
       "      <td>2020-01-01 00:05:45</td>\n",
       "      <td>2637</td>\n",
       "      <td>514.0</td>\n",
       "      <td>623</td>\n",
       "      <td>Michigan Ave &amp; 8th St</td>\n",
       "      <td>52</td>\n",
       "      <td>Michigan Ave &amp; Lake St</td>\n",
       "      <td>Subscriber</td>\n",
       "      <td>Female</td>\n",
       "      <td>1970.0</td>\n",
       "    </tr>\n",
       "    <tr>\n",
       "      <th>3818003</th>\n",
       "      <td>25962904</td>\n",
       "      <td>2019-12-31 23:57:17</td>\n",
       "      <td>2019-12-31 23:59:18</td>\n",
       "      <td>5930</td>\n",
       "      <td>120.0</td>\n",
       "      <td>256</td>\n",
       "      <td>Broadway &amp; Sheridan Rd</td>\n",
       "      <td>240</td>\n",
       "      <td>Sheridan Rd &amp; Irving Park Rd</td>\n",
       "      <td>Subscriber</td>\n",
       "      <td>Male</td>\n",
       "      <td>1982.0</td>\n",
       "    </tr>\n",
       "  </tbody>\n",
       "</table>\n",
       "<p>3818004 rows × 12 columns</p>\n",
       "</div>"
      ],
      "text/plain": [
       "          trip_id           start_time             end_time  bikeid  \\\n",
       "0        21742443  2019-01-01 00:04:37  2019-01-01 00:11:07    2167   \n",
       "1        21742444  2019-01-01 00:08:13  2019-01-01 00:15:34    4386   \n",
       "2        21742445  2019-01-01 00:13:23  2019-01-01 00:27:12    1524   \n",
       "3        21742446  2019-01-01 00:13:45  2019-01-01 00:43:28     252   \n",
       "4        21742447  2019-01-01 00:14:52  2019-01-01 00:20:56    1170   \n",
       "...           ...                  ...                  ...     ...   \n",
       "3817999  25962900  2019-12-31 23:56:13  2020-01-01 00:15:45    2196   \n",
       "3818000  25962901  2019-12-31 23:56:34  2020-01-01 00:22:08    4877   \n",
       "3818001  25962902  2019-12-31 23:57:05  2020-01-01 00:05:46     863   \n",
       "3818002  25962903  2019-12-31 23:57:11  2020-01-01 00:05:45    2637   \n",
       "3818003  25962904  2019-12-31 23:57:17  2019-12-31 23:59:18    5930   \n",
       "\n",
       "        tripduration  from_station_id                    from_station_name  \\\n",
       "0              390.0              199               Wabash Ave & Grand Ave   \n",
       "1              441.0               44               State St & Randolph St   \n",
       "2              829.0               15                 Racine Ave & 18th St   \n",
       "3            1,783.0              123       California Ave & Milwaukee Ave   \n",
       "4              364.0              173  Mies van der Rohe Way & Chicago Ave   \n",
       "...              ...              ...                                  ...   \n",
       "3817999      1,172.0              112               Green St & Randolph St   \n",
       "3818000      1,533.0               90                      Millennium Park   \n",
       "3818001        520.0              623                Michigan Ave & 8th St   \n",
       "3818002        514.0              623                Michigan Ave & 8th St   \n",
       "3818003        120.0              256               Broadway & Sheridan Rd   \n",
       "\n",
       "         to_station_id                 to_station_name    usertype  gender  \\\n",
       "0                   84       Milwaukee Ave & Grand Ave  Subscriber    Male   \n",
       "1                  624  Dearborn St & Van Buren St (*)  Subscriber  Female   \n",
       "2                  644   Western Ave & Fillmore St (*)  Subscriber  Female   \n",
       "3                  176               Clark St & Elm St  Subscriber    Male   \n",
       "4                   35         Streeter Dr & Grand Ave  Subscriber    Male   \n",
       "...                ...                             ...         ...     ...   \n",
       "3817999            225        Halsted St & Dickens Ave  Subscriber    Male   \n",
       "3818000             90                 Millennium Park  Subscriber    Male   \n",
       "3818001             52          Michigan Ave & Lake St  Subscriber    Male   \n",
       "3818002             52          Michigan Ave & Lake St  Subscriber  Female   \n",
       "3818003            240    Sheridan Rd & Irving Park Rd  Subscriber    Male   \n",
       "\n",
       "         birthyear  \n",
       "0           1989.0  \n",
       "1           1990.0  \n",
       "2           1994.0  \n",
       "3           1993.0  \n",
       "4           1994.0  \n",
       "...            ...  \n",
       "3817999     1981.0  \n",
       "3818000     1992.0  \n",
       "3818001     1967.0  \n",
       "3818002     1970.0  \n",
       "3818003     1982.0  \n",
       "\n",
       "[3818004 rows x 12 columns]"
      ]
     },
     "execution_count": 155,
     "metadata": {},
     "output_type": "execute_result"
    }
   ],
   "source": [
    "trip_data"
   ]
  },
  {
   "cell_type": "markdown",
   "id": "6ea754f9",
   "metadata": {},
   "source": [
    "**Notes**\n",
    "\n",
    "- The data set has `3818004 rows` and `12 columns`."
   ]
  },
  {
   "cell_type": "markdown",
   "id": "0268fcaf",
   "metadata": {},
   "source": [
    "### Data Type"
   ]
  },
  {
   "cell_type": "code",
   "execution_count": 156,
   "id": "801e9643",
   "metadata": {},
   "outputs": [
    {
     "name": "stdout",
     "output_type": "stream",
     "text": [
      "<class 'pandas.core.frame.DataFrame'>\n",
      "RangeIndex: 3818004 entries, 0 to 3818003\n",
      "Data columns (total 12 columns):\n",
      " #   Column             Dtype  \n",
      "---  ------             -----  \n",
      " 0   trip_id            int64  \n",
      " 1   start_time         object \n",
      " 2   end_time           object \n",
      " 3   bikeid             int64  \n",
      " 4   tripduration       object \n",
      " 5   from_station_id    int64  \n",
      " 6   from_station_name  object \n",
      " 7   to_station_id      int64  \n",
      " 8   to_station_name    object \n",
      " 9   usertype           object \n",
      " 10  gender             object \n",
      " 11  birthyear          float64\n",
      "dtypes: float64(1), int64(4), object(7)\n",
      "memory usage: 349.5+ MB\n"
     ]
    }
   ],
   "source": [
    "trip_data.info()"
   ]
  },
  {
   "cell_type": "markdown",
   "id": "526609c8",
   "metadata": {},
   "source": [
    "**Notes**\n",
    "- Columns `start_time`, `end_time` and `tripduration` are wrong type."
   ]
  },
  {
   "cell_type": "markdown",
   "id": "03e6f23c",
   "metadata": {},
   "source": [
    "The following data manipulation is performed:\n",
    "\n",
    "1. Convert `start_time` and `end_time` to type `datetime64`.\n",
    "2. Convert `tripduration` to type `float64`.\n",
    "3. Add new columns `ride_length`, `day_of_week`, `day_name`, `quarter`, `start_end_station`, `start_hour`.\n",
    "4. Drop `birthyear` and `gender` as these fields were dropped in the 2020 data\n",
    "5. Convert `usertype` `Subscriber` -> `Member` and `Customer` -> `Casual`"
   ]
  },
  {
   "cell_type": "markdown",
   "id": "9713fb2d",
   "metadata": {},
   "source": [
    "## Data Manipulation"
   ]
  },
  {
   "cell_type": "markdown",
   "id": "c030661c",
   "metadata": {},
   "source": [
    "### Step 1"
   ]
  },
  {
   "cell_type": "markdown",
   "id": "674dc495",
   "metadata": {},
   "source": [
    "`start_time` and `end_time` column should be `datetime64` type. Other columns are fine."
   ]
  },
  {
   "cell_type": "code",
   "execution_count": 157,
   "id": "c252dffb",
   "metadata": {},
   "outputs": [],
   "source": [
    "trip_data['start_time'] = trip_data['start_time'].astype('datetime64')\n",
    "trip_data['end_time'] = trip_data['end_time'].astype('datetime64')"
   ]
  },
  {
   "cell_type": "markdown",
   "id": "bd05e84c",
   "metadata": {},
   "source": [
    "### Step 2"
   ]
  },
  {
   "cell_type": "markdown",
   "id": "5c45868d",
   "metadata": {},
   "source": [
    "`tripduration` column should be `numerical` type."
   ]
  },
  {
   "cell_type": "code",
   "execution_count": 158,
   "id": "bdcdc76a",
   "metadata": {},
   "outputs": [],
   "source": [
    "trip_data['tripduration'] = trip_data['tripduration'].str.replace(',', '').astype('float64')"
   ]
  },
  {
   "cell_type": "markdown",
   "id": "7065b06b",
   "metadata": {},
   "source": [
    "### Step 3"
   ]
  },
  {
   "cell_type": "markdown",
   "id": "dd56ac0c",
   "metadata": {},
   "source": [
    "`ride_length` column. The length of each ride by subtracting the column `start_time` from the column `end_time`. Format as `HH:MM:SS`."
   ]
  },
  {
   "cell_type": "code",
   "execution_count": 159,
   "id": "2dff8a55",
   "metadata": {},
   "outputs": [],
   "source": [
    "trip_data['ride_length'] = trip_data['end_time'] - trip_data['start_time']"
   ]
  },
  {
   "cell_type": "markdown",
   "id": "572247e0",
   "metadata": {},
   "source": [
    "Create a column called `day_of_week` and calculate the day of the week that each ride started. Format as General or as a number with no decimals, noting that `Monday=0`, `Sunday=6`."
   ]
  },
  {
   "cell_type": "code",
   "execution_count": 160,
   "id": "e4b80d81",
   "metadata": {},
   "outputs": [],
   "source": [
    "trip_data['day_of_week'] = trip_data['start_time'].dt.dayofweek"
   ]
  },
  {
   "cell_type": "markdown",
   "id": "30f69937",
   "metadata": {},
   "source": [
    "`day_name` column"
   ]
  },
  {
   "cell_type": "code",
   "execution_count": 161,
   "id": "357ce3da",
   "metadata": {},
   "outputs": [],
   "source": [
    "trip_data['day_name'] = trip_data['start_time'].dt.day_name()"
   ]
  },
  {
   "cell_type": "markdown",
   "id": "4c40bcb6",
   "metadata": {},
   "source": [
    "`quarter` column"
   ]
  },
  {
   "cell_type": "code",
   "execution_count": 162,
   "id": "85c80998",
   "metadata": {},
   "outputs": [],
   "source": [
    "trip_data['quarter'] = trip_data['start_time'].dt.quarter.apply(lambda x: 'Q' + str(x))"
   ]
  },
  {
   "cell_type": "markdown",
   "id": "a755c289",
   "metadata": {},
   "source": [
    "`start_end_station` column"
   ]
  },
  {
   "cell_type": "code",
   "execution_count": 163,
   "id": "0b5557a3",
   "metadata": {},
   "outputs": [],
   "source": [
    "trip_data['start_end_station'] = '(' + trip_data['from_station_name'] + ', ' + trip_data['to_station_name'] + ')'"
   ]
  },
  {
   "cell_type": "markdown",
   "id": "3394b745",
   "metadata": {},
   "source": [
    "`hour` column"
   ]
  },
  {
   "cell_type": "code",
   "execution_count": 164,
   "id": "ffd2955e",
   "metadata": {},
   "outputs": [],
   "source": [
    "trip_data['start_hour'] = trip_data['start_time'].dt.hour"
   ]
  },
  {
   "cell_type": "markdown",
   "id": "0b3cdb9b",
   "metadata": {},
   "source": [
    "### Step 4"
   ]
  },
  {
   "cell_type": "code",
   "execution_count": 165,
   "id": "a6fea0ad",
   "metadata": {},
   "outputs": [],
   "source": [
    "trip_data.drop(columns = ['birthyear', 'gender'], inplace = True)"
   ]
  },
  {
   "cell_type": "markdown",
   "id": "4a22d256",
   "metadata": {},
   "source": [
    "### Step 5"
   ]
  },
  {
   "cell_type": "code",
   "execution_count": 166,
   "id": "ee2d93a6",
   "metadata": {},
   "outputs": [],
   "source": [
    "trip_data['usertype'] = trip_data['usertype'].map({'Subscriber': 'Member', 'Customer': 'Casual'})"
   ]
  },
  {
   "cell_type": "markdown",
   "id": "9806f0c2",
   "metadata": {},
   "source": [
    "## Statistics"
   ]
  },
  {
   "cell_type": "markdown",
   "id": "ace24d2a",
   "metadata": {},
   "source": [
    "### Numerical"
   ]
  },
  {
   "cell_type": "code",
   "execution_count": 167,
   "id": "0fcc9ffa",
   "metadata": {},
   "outputs": [
    {
     "data": {
      "text/html": [
       "<div>\n",
       "<style scoped>\n",
       "    .dataframe tbody tr th:only-of-type {\n",
       "        vertical-align: middle;\n",
       "    }\n",
       "\n",
       "    .dataframe tbody tr th {\n",
       "        vertical-align: top;\n",
       "    }\n",
       "\n",
       "    .dataframe thead th {\n",
       "        text-align: right;\n",
       "    }\n",
       "</style>\n",
       "<table border=\"1\" class=\"dataframe\">\n",
       "  <thead>\n",
       "    <tr style=\"text-align: right;\">\n",
       "      <th></th>\n",
       "      <th>trip_id</th>\n",
       "      <th>bikeid</th>\n",
       "      <th>tripduration</th>\n",
       "      <th>from_station_id</th>\n",
       "      <th>to_station_id</th>\n",
       "      <th>ride_length</th>\n",
       "      <th>day_of_week</th>\n",
       "      <th>start_hour</th>\n",
       "    </tr>\n",
       "  </thead>\n",
       "  <tbody>\n",
       "    <tr>\n",
       "      <th>count</th>\n",
       "      <td>3.818004e+06</td>\n",
       "      <td>3.818004e+06</td>\n",
       "      <td>3.818004e+06</td>\n",
       "      <td>3.818004e+06</td>\n",
       "      <td>3.818004e+06</td>\n",
       "      <td>3818004</td>\n",
       "      <td>3.818004e+06</td>\n",
       "      <td>3.818004e+06</td>\n",
       "    </tr>\n",
       "    <tr>\n",
       "      <th>mean</th>\n",
       "      <td>2.391563e+07</td>\n",
       "      <td>3.380252e+03</td>\n",
       "      <td>1.450203e+03</td>\n",
       "      <td>2.016659e+02</td>\n",
       "      <td>2.026363e+02</td>\n",
       "      <td>0 days 00:24:10.451397903</td>\n",
       "      <td>2.845892e+00</td>\n",
       "      <td>1.377171e+01</td>\n",
       "    </tr>\n",
       "    <tr>\n",
       "      <th>std</th>\n",
       "      <td>1.212667e+06</td>\n",
       "      <td>1.902511e+03</td>\n",
       "      <td>2.985414e+04</td>\n",
       "      <td>1.560798e+02</td>\n",
       "      <td>1.562388e+02</td>\n",
       "      <td>0 days 08:17:32.263421746</td>\n",
       "      <td>1.933632e+00</td>\n",
       "      <td>4.716919e+00</td>\n",
       "    </tr>\n",
       "    <tr>\n",
       "      <th>min</th>\n",
       "      <td>2.174244e+07</td>\n",
       "      <td>1.000000e+00</td>\n",
       "      <td>6.100000e+01</td>\n",
       "      <td>1.000000e+00</td>\n",
       "      <td>1.000000e+00</td>\n",
       "      <td>-1 days +23:03:38</td>\n",
       "      <td>0.000000e+00</td>\n",
       "      <td>0.000000e+00</td>\n",
       "    </tr>\n",
       "    <tr>\n",
       "      <th>25%</th>\n",
       "      <td>2.287379e+07</td>\n",
       "      <td>1.727000e+03</td>\n",
       "      <td>4.110000e+02</td>\n",
       "      <td>7.700000e+01</td>\n",
       "      <td>7.700000e+01</td>\n",
       "      <td>0 days 00:06:51</td>\n",
       "      <td>1.000000e+00</td>\n",
       "      <td>1.000000e+01</td>\n",
       "    </tr>\n",
       "    <tr>\n",
       "      <th>50%</th>\n",
       "      <td>2.396232e+07</td>\n",
       "      <td>3.451000e+03</td>\n",
       "      <td>7.090000e+02</td>\n",
       "      <td>1.740000e+02</td>\n",
       "      <td>1.740000e+02</td>\n",
       "      <td>0 days 00:11:49</td>\n",
       "      <td>3.000000e+00</td>\n",
       "      <td>1.500000e+01</td>\n",
       "    </tr>\n",
       "    <tr>\n",
       "      <th>75%</th>\n",
       "      <td>2.496370e+07</td>\n",
       "      <td>5.046000e+03</td>\n",
       "      <td>1.283000e+03</td>\n",
       "      <td>2.890000e+02</td>\n",
       "      <td>2.910000e+02</td>\n",
       "      <td>0 days 00:21:24</td>\n",
       "      <td>4.000000e+00</td>\n",
       "      <td>1.700000e+01</td>\n",
       "    </tr>\n",
       "    <tr>\n",
       "      <th>max</th>\n",
       "      <td>2.596290e+07</td>\n",
       "      <td>6.946000e+03</td>\n",
       "      <td>1.062840e+07</td>\n",
       "      <td>6.730000e+02</td>\n",
       "      <td>6.730000e+02</td>\n",
       "      <td>123 days 01:20:22</td>\n",
       "      <td>6.000000e+00</td>\n",
       "      <td>2.300000e+01</td>\n",
       "    </tr>\n",
       "  </tbody>\n",
       "</table>\n",
       "</div>"
      ],
      "text/plain": [
       "            trip_id        bikeid  tripduration  from_station_id  \\\n",
       "count  3.818004e+06  3.818004e+06  3.818004e+06     3.818004e+06   \n",
       "mean   2.391563e+07  3.380252e+03  1.450203e+03     2.016659e+02   \n",
       "std    1.212667e+06  1.902511e+03  2.985414e+04     1.560798e+02   \n",
       "min    2.174244e+07  1.000000e+00  6.100000e+01     1.000000e+00   \n",
       "25%    2.287379e+07  1.727000e+03  4.110000e+02     7.700000e+01   \n",
       "50%    2.396232e+07  3.451000e+03  7.090000e+02     1.740000e+02   \n",
       "75%    2.496370e+07  5.046000e+03  1.283000e+03     2.890000e+02   \n",
       "max    2.596290e+07  6.946000e+03  1.062840e+07     6.730000e+02   \n",
       "\n",
       "       to_station_id                ride_length   day_of_week    start_hour  \n",
       "count   3.818004e+06                    3818004  3.818004e+06  3.818004e+06  \n",
       "mean    2.026363e+02  0 days 00:24:10.451397903  2.845892e+00  1.377171e+01  \n",
       "std     1.562388e+02  0 days 08:17:32.263421746  1.933632e+00  4.716919e+00  \n",
       "min     1.000000e+00          -1 days +23:03:38  0.000000e+00  0.000000e+00  \n",
       "25%     7.700000e+01            0 days 00:06:51  1.000000e+00  1.000000e+01  \n",
       "50%     1.740000e+02            0 days 00:11:49  3.000000e+00  1.500000e+01  \n",
       "75%     2.910000e+02            0 days 00:21:24  4.000000e+00  1.700000e+01  \n",
       "max     6.730000e+02          123 days 01:20:22  6.000000e+00  2.300000e+01  "
      ]
     },
     "execution_count": 167,
     "metadata": {},
     "output_type": "execute_result"
    }
   ],
   "source": [
    "trip_data.describe()"
   ]
  },
  {
   "cell_type": "markdown",
   "id": "25ef6d3f",
   "metadata": {},
   "source": [
    "**Notes**\n",
    "\n",
    "- `ride_length` has negative `min` values and extremely high `max` values."
   ]
  },
  {
   "cell_type": "markdown",
   "id": "7ce4f940",
   "metadata": {},
   "source": [
    "#### `ride_length` column"
   ]
  },
  {
   "cell_type": "markdown",
   "id": "49e0cbd5",
   "metadata": {},
   "source": [
    "Negative values in `ride_length` are due to an error which `start_time` is later than `end_time`."
   ]
  },
  {
   "cell_type": "code",
   "execution_count": 168,
   "id": "a61690f0",
   "metadata": {},
   "outputs": [],
   "source": [
    "# select rows with start_time > end_time\n",
    "cond = trip_data['start_time'] > trip_data['end_time']\n",
    "idx = trip_data[cond].index\n",
    "\n",
    "# remove these rows\n",
    "trip_data = trip_data.drop(index = idx).reset_index(drop = True)"
   ]
  },
  {
   "cell_type": "markdown",
   "id": "3b31163f",
   "metadata": {},
   "source": [
    "Let's look into trips with `ride_length` more than 1 days."
   ]
  },
  {
   "cell_type": "code",
   "execution_count": 169,
   "id": "a8dab19a",
   "metadata": {},
   "outputs": [
    {
     "data": {
      "text/plain": [
       "0.048428610753666"
      ]
     },
     "execution_count": 169,
     "metadata": {},
     "output_type": "execute_result"
    }
   ],
   "source": [
    "cond = trip_data['ride_length'].dt.days > 0\n",
    "# trip_data[cond]\n",
    "\n",
    "100*trip_data[cond].shape[0]/trip_data.shape[0]"
   ]
  },
  {
   "cell_type": "markdown",
   "id": "f54dd2a9",
   "metadata": {},
   "source": [
    "There are **`0.04%`** trips with **`ride_length`** longer than 1 days.\n",
    "\n",
    "This phenomenon is strange. In real life project, I will discuss this problem with my team to find a solution but I will drop these rows for this case study."
   ]
  },
  {
   "cell_type": "code",
   "execution_count": 170,
   "id": "3562aeeb",
   "metadata": {},
   "outputs": [],
   "source": [
    "cond = trip_data['ride_length'].dt.days > 0\n",
    "idx = trip_data[cond].index\n",
    "\n",
    "# remove these rows\n",
    "trip_data = trip_data.drop(index = idx).reset_index(drop = True)"
   ]
  },
  {
   "cell_type": "markdown",
   "id": "b46824d1",
   "metadata": {},
   "source": [
    "### Categorical"
   ]
  },
  {
   "cell_type": "code",
   "execution_count": 171,
   "id": "489df97c",
   "metadata": {},
   "outputs": [
    {
     "data": {
      "text/html": [
       "<div>\n",
       "<style scoped>\n",
       "    .dataframe tbody tr th:only-of-type {\n",
       "        vertical-align: middle;\n",
       "    }\n",
       "\n",
       "    .dataframe tbody tr th {\n",
       "        vertical-align: top;\n",
       "    }\n",
       "\n",
       "    .dataframe thead th {\n",
       "        text-align: right;\n",
       "    }\n",
       "</style>\n",
       "<table border=\"1\" class=\"dataframe\">\n",
       "  <thead>\n",
       "    <tr style=\"text-align: right;\">\n",
       "      <th></th>\n",
       "      <th>from_station_name</th>\n",
       "      <th>to_station_name</th>\n",
       "      <th>usertype</th>\n",
       "      <th>day_name</th>\n",
       "      <th>quarter</th>\n",
       "      <th>start_end_station</th>\n",
       "    </tr>\n",
       "  </thead>\n",
       "  <tbody>\n",
       "    <tr>\n",
       "      <th>count</th>\n",
       "      <td>3816142</td>\n",
       "      <td>3816142</td>\n",
       "      <td>3816142</td>\n",
       "      <td>3816142</td>\n",
       "      <td>3816142</td>\n",
       "      <td>3816142</td>\n",
       "    </tr>\n",
       "    <tr>\n",
       "      <th>unique</th>\n",
       "      <td>640</td>\n",
       "      <td>641</td>\n",
       "      <td>2</td>\n",
       "      <td>7</td>\n",
       "      <td>4</td>\n",
       "      <td>131029</td>\n",
       "    </tr>\n",
       "    <tr>\n",
       "      <th>top</th>\n",
       "      <td>Streeter Dr &amp; Grand Ave</td>\n",
       "      <td>Streeter Dr &amp; Grand Ave</td>\n",
       "      <td>Member</td>\n",
       "      <td>Thursday</td>\n",
       "      <td>Q3</td>\n",
       "      <td>(Lake Shore Dr &amp; Monroe St, Streeter Dr &amp; Gran...</td>\n",
       "    </tr>\n",
       "    <tr>\n",
       "      <th>freq</th>\n",
       "      <td>67947</td>\n",
       "      <td>81709</td>\n",
       "      <td>2936859</td>\n",
       "      <td>588040</td>\n",
       "      <td>1639905</td>\n",
       "      <td>9872</td>\n",
       "    </tr>\n",
       "  </tbody>\n",
       "</table>\n",
       "</div>"
      ],
      "text/plain": [
       "              from_station_name          to_station_name usertype  day_name  \\\n",
       "count                   3816142                  3816142  3816142   3816142   \n",
       "unique                      640                      641        2         7   \n",
       "top     Streeter Dr & Grand Ave  Streeter Dr & Grand Ave   Member  Thursday   \n",
       "freq                      67947                    81709  2936859    588040   \n",
       "\n",
       "        quarter                                  start_end_station  \n",
       "count   3816142                                            3816142  \n",
       "unique        4                                             131029  \n",
       "top          Q3  (Lake Shore Dr & Monroe St, Streeter Dr & Gran...  \n",
       "freq    1639905                                               9872  "
      ]
     },
     "execution_count": 171,
     "metadata": {},
     "output_type": "execute_result"
    }
   ],
   "source": [
    "trip_data.describe(include = 'object')"
   ]
  },
  {
   "cell_type": "markdown",
   "id": "f77ec7d8",
   "metadata": {},
   "source": [
    "**Notes**\n",
    "\n",
    "- `Streeter Dr & Grand Ave` is quite popular as it is on top of both start and end station.\n",
    "\n",
    "No changes needed."
   ]
  },
  {
   "cell_type": "markdown",
   "id": "703bb89c",
   "metadata": {},
   "source": [
    "-------------------------"
   ]
  },
  {
   "cell_type": "markdown",
   "id": "51b793b8",
   "metadata": {},
   "source": [
    "# STEP 4: ANALYZE\n",
    "\n",
    "<a id='STEP_4:_ANALYZE'></a>"
   ]
  },
  {
   "cell_type": "code",
   "execution_count": 172,
   "id": "65b9f167",
   "metadata": {},
   "outputs": [
    {
     "data": {
      "text/html": [
       "<div>\n",
       "<style scoped>\n",
       "    .dataframe tbody tr th:only-of-type {\n",
       "        vertical-align: middle;\n",
       "    }\n",
       "\n",
       "    .dataframe tbody tr th {\n",
       "        vertical-align: top;\n",
       "    }\n",
       "\n",
       "    .dataframe thead th {\n",
       "        text-align: right;\n",
       "    }\n",
       "</style>\n",
       "<table border=\"1\" class=\"dataframe\">\n",
       "  <thead>\n",
       "    <tr style=\"text-align: right;\">\n",
       "      <th></th>\n",
       "      <th>trip_id</th>\n",
       "      <th>start_time</th>\n",
       "      <th>end_time</th>\n",
       "      <th>bikeid</th>\n",
       "      <th>tripduration</th>\n",
       "      <th>from_station_id</th>\n",
       "      <th>from_station_name</th>\n",
       "      <th>to_station_id</th>\n",
       "      <th>to_station_name</th>\n",
       "      <th>usertype</th>\n",
       "      <th>ride_length</th>\n",
       "      <th>day_of_week</th>\n",
       "      <th>day_name</th>\n",
       "      <th>quarter</th>\n",
       "      <th>start_end_station</th>\n",
       "      <th>start_hour</th>\n",
       "    </tr>\n",
       "  </thead>\n",
       "  <tbody>\n",
       "    <tr>\n",
       "      <th>0</th>\n",
       "      <td>21742443</td>\n",
       "      <td>2019-01-01 00:04:37</td>\n",
       "      <td>2019-01-01 00:11:07</td>\n",
       "      <td>2167</td>\n",
       "      <td>390.0</td>\n",
       "      <td>199</td>\n",
       "      <td>Wabash Ave &amp; Grand Ave</td>\n",
       "      <td>84</td>\n",
       "      <td>Milwaukee Ave &amp; Grand Ave</td>\n",
       "      <td>Member</td>\n",
       "      <td>0 days 00:06:30</td>\n",
       "      <td>1</td>\n",
       "      <td>Tuesday</td>\n",
       "      <td>Q1</td>\n",
       "      <td>(Wabash Ave &amp; Grand Ave, Milwaukee Ave &amp; Grand...</td>\n",
       "      <td>0</td>\n",
       "    </tr>\n",
       "    <tr>\n",
       "      <th>1</th>\n",
       "      <td>21742444</td>\n",
       "      <td>2019-01-01 00:08:13</td>\n",
       "      <td>2019-01-01 00:15:34</td>\n",
       "      <td>4386</td>\n",
       "      <td>441.0</td>\n",
       "      <td>44</td>\n",
       "      <td>State St &amp; Randolph St</td>\n",
       "      <td>624</td>\n",
       "      <td>Dearborn St &amp; Van Buren St (*)</td>\n",
       "      <td>Member</td>\n",
       "      <td>0 days 00:07:21</td>\n",
       "      <td>1</td>\n",
       "      <td>Tuesday</td>\n",
       "      <td>Q1</td>\n",
       "      <td>(State St &amp; Randolph St, Dearborn St &amp; Van Bur...</td>\n",
       "      <td>0</td>\n",
       "    </tr>\n",
       "    <tr>\n",
       "      <th>2</th>\n",
       "      <td>21742445</td>\n",
       "      <td>2019-01-01 00:13:23</td>\n",
       "      <td>2019-01-01 00:27:12</td>\n",
       "      <td>1524</td>\n",
       "      <td>829.0</td>\n",
       "      <td>15</td>\n",
       "      <td>Racine Ave &amp; 18th St</td>\n",
       "      <td>644</td>\n",
       "      <td>Western Ave &amp; Fillmore St (*)</td>\n",
       "      <td>Member</td>\n",
       "      <td>0 days 00:13:49</td>\n",
       "      <td>1</td>\n",
       "      <td>Tuesday</td>\n",
       "      <td>Q1</td>\n",
       "      <td>(Racine Ave &amp; 18th St, Western Ave &amp; Fillmore ...</td>\n",
       "      <td>0</td>\n",
       "    </tr>\n",
       "  </tbody>\n",
       "</table>\n",
       "</div>"
      ],
      "text/plain": [
       "    trip_id          start_time            end_time  bikeid  tripduration  \\\n",
       "0  21742443 2019-01-01 00:04:37 2019-01-01 00:11:07    2167         390.0   \n",
       "1  21742444 2019-01-01 00:08:13 2019-01-01 00:15:34    4386         441.0   \n",
       "2  21742445 2019-01-01 00:13:23 2019-01-01 00:27:12    1524         829.0   \n",
       "\n",
       "   from_station_id       from_station_name  to_station_id  \\\n",
       "0              199  Wabash Ave & Grand Ave             84   \n",
       "1               44  State St & Randolph St            624   \n",
       "2               15    Racine Ave & 18th St            644   \n",
       "\n",
       "                  to_station_name usertype     ride_length  day_of_week  \\\n",
       "0       Milwaukee Ave & Grand Ave   Member 0 days 00:06:30            1   \n",
       "1  Dearborn St & Van Buren St (*)   Member 0 days 00:07:21            1   \n",
       "2   Western Ave & Fillmore St (*)   Member 0 days 00:13:49            1   \n",
       "\n",
       "  day_name quarter                                  start_end_station  \\\n",
       "0  Tuesday      Q1  (Wabash Ave & Grand Ave, Milwaukee Ave & Grand...   \n",
       "1  Tuesday      Q1  (State St & Randolph St, Dearborn St & Van Bur...   \n",
       "2  Tuesday      Q1  (Racine Ave & 18th St, Western Ave & Fillmore ...   \n",
       "\n",
       "   start_hour  \n",
       "0           0  \n",
       "1           0  \n",
       "2           0  "
      ]
     },
     "execution_count": 172,
     "metadata": {},
     "output_type": "execute_result"
    }
   ],
   "source": [
    "trip_data.head(3)"
   ]
  },
  {
   "cell_type": "markdown",
   "id": "44d4d376",
   "metadata": {},
   "source": [
    "## Let's dive into the question \"*How do annual members and casual riders use Cyclistic bikes differently?*\""
   ]
  },
  {
   "cell_type": "markdown",
   "id": "d99e014f",
   "metadata": {},
   "source": [
    "### `Casual` and `Member` count in 2019"
   ]
  },
  {
   "cell_type": "code",
   "execution_count": 173,
   "id": "ce850750",
   "metadata": {},
   "outputs": [
    {
     "data": {
      "text/plain": [
       "Member    2936859\n",
       "Casual     879283\n",
       "Name: usertype, dtype: int64"
      ]
     },
     "execution_count": 173,
     "metadata": {},
     "output_type": "execute_result"
    }
   ],
   "source": [
    "trip_data['usertype'].value_counts()"
   ]
  },
  {
   "cell_type": "markdown",
   "id": "34e457a1",
   "metadata": {},
   "source": [
    "**Notes**\n",
    "\n",
    "- The number of members are higher than casual riders."
   ]
  },
  {
   "cell_type": "markdown",
   "id": "f62e5d7b",
   "metadata": {},
   "source": [
    "### How many trips by `usertype` for each `quarter`?"
   ]
  },
  {
   "cell_type": "code",
   "execution_count": 174,
   "id": "be894154",
   "metadata": {},
   "outputs": [
    {
     "data": {
      "image/png": "[encoded data removed]",
      "text/plain": [
       "<Figure size 432x288 with 1 Axes>"
      ]
     },
     "metadata": {
      "needs_background": "light"
     },
     "output_type": "display_data"
    }
   ],
   "source": [
    "color = ['blue', 'red']*4\n",
    "\n",
    "trip_data.groupby(by = ['quarter', 'usertype'])['trip_id'].count().plot.bar(subplots=True, color = color)\n",
    "\n",
    "plt.title(\"Number of trips per Quarter by user type\")\n",
    "plt.xlabel(\"\")\n",
    "plt.ylabel('Count of trips')\n",
    "\n",
    "plt.show()"
   ]
  },
  {
   "cell_type": "markdown",
   "id": "d78cf0cd",
   "metadata": {},
   "source": [
    "**Notes**\n",
    "\n",
    "- Although, the number of trips differ greatly for each user type but they share the same trend as it increased then peaked in the third quarter."
   ]
  },
  {
   "cell_type": "markdown",
   "id": "3935b661",
   "metadata": {},
   "source": [
    "### Count of trips throughout the week by `usertype` [1]\n",
    " <a id='[1]'></a>"
   ]
  },
  {
   "cell_type": "code",
   "execution_count": 175,
   "id": "18f72d92",
   "metadata": {},
   "outputs": [
    {
     "data": {
      "image/png": "[encoded data removed]",
      "text/plain": [
       "<Figure size 432x288 with 1 Axes>"
      ]
     },
     "metadata": {
      "needs_background": "light"
     },
     "output_type": "display_data"
    }
   ],
   "source": [
    "vals = {\n",
    "    0: 'Monday',\n",
    "    1: 'Tuesday',\n",
    "    2: 'Wednesday',\n",
    "    3: 'Thursday',\n",
    "    4: 'Friday',\n",
    "    5: 'Saturday',\n",
    "    6: 'Sunday'\n",
    "}\n",
    "\n",
    "temp = trip_data.pivot_table(index = 'day_of_week', columns = 'usertype', values = 'trip_id', aggfunc = 'count')\n",
    "temp.index = temp.index.map(vals)\n",
    "\n",
    "temp.plot.bar()\n",
    "\n",
    "plt.title('Number of trips in weekday by user type')\n",
    "plt.xlabel('Weekday')\n",
    "plt.ylabel('Count of trips')\n",
    "\n",
    "plt.xticks(rotation=45)\n",
    "\n",
    "plt.show()"
   ]
  },
  {
   "cell_type": "markdown",
   "id": "0746e433",
   "metadata": {},
   "source": [
    "**Notes**\n",
    "\n",
    "- For members of Cyclistic, the number of trips are higher during the working days (from Monday to Friday). Whereas casual riders are more active in the weekend.\n",
    "- My assumption is that members usually use the bike-sharing service to commute to work while casual riders could be using it for entertainment, sight-seeing, excersises, ... . This is our first key difference in these two types of user's behaviour."
   ]
  },
  {
   "cell_type": "markdown",
   "id": "092b802f",
   "metadata": {},
   "source": [
    "### Average `tripduration` by `usertype` [2]\n",
    "\n",
    " <a id='[2]'></a>"
   ]
  },
  {
   "cell_type": "code",
   "execution_count": 176,
   "id": "52e660d1",
   "metadata": {},
   "outputs": [
    {
     "data": {
      "text/plain": [
       "usertype\n",
       "Casual    2365.448739\n",
       "Member     775.632444\n",
       "Name: tripduration, dtype: float64"
      ]
     },
     "execution_count": 176,
     "metadata": {},
     "output_type": "execute_result"
    }
   ],
   "source": [
    "trip_data.groupby(by = 'usertype')['tripduration'].mean()"
   ]
  },
  {
   "cell_type": "markdown",
   "id": "da7c95ca",
   "metadata": {},
   "source": [
    "**Notes**\n",
    "\n",
    "- We can see that `Casual Riders` spent more time cycling than `Cyclistic Members`."
   ]
  },
  {
   "cell_type": "markdown",
   "id": "1d0916b5",
   "metadata": {},
   "source": [
    "Let's see the histogram of `tripduration` by `usertype`. I also filter out the `tripduration` values higher than the third quantile value for each `usertype` as those values affect the first histogram greatly."
   ]
  },
  {
   "cell_type": "code",
   "execution_count": 177,
   "id": "f7607903",
   "metadata": {},
   "outputs": [
    {
     "data": {
      "image/png": "[encoded data removed]",
      "text/plain": [
       "<Figure size 720x576 with 4 Axes>"
      ]
     },
     "metadata": {
      "needs_background": "light"
     },
     "output_type": "display_data"
    }
   ],
   "source": [
    "fig, ax = plt.subplots(2, 2, figsize = (10, 8))\n",
    "\n",
    "# CASUAL RIDERS\n",
    "# Plot tripduration histogram on all rows\n",
    "cond = (trip_data['usertype'] == 'Casual')\n",
    "temp = trip_data[cond]\n",
    "\n",
    "ax[0, 0].hist(temp['tripduration'], color = 'blue', bins = 'auto')\n",
    "ax[0, 0].set_title('Casual riders Trip duration')\n",
    "\n",
    "# Plot tripduration histogram on rows with `tripduration` < 235\n",
    "cond = (trip_data['usertype'] == 'Casual') & (trip_data['tripduration'] <= trip_data['tripduration'].quantile(0.75))\n",
    "temp = trip_data[cond]\n",
    "\n",
    "ax[0, 1].hist(temp['tripduration'], color = 'blue')\n",
    "ax[0, 1].plot([temp['tripduration'].mean()]*2, [0, ax[0, 1].get_ylim()[1]], color = 'black')\n",
    "ax[0, 1].set_title('<= Q3')\n",
    "\n",
    "\n",
    "# CYCLISTIC MEMBERS\n",
    "# Plot tripduration histogram on all rows\n",
    "cond = (trip_data['usertype'] == 'Member')\n",
    "temp = trip_data[cond]\n",
    "\n",
    "ax[1, 0].hist(temp['tripduration'], color = 'red', bins = 'auto')\n",
    "ax[1, 0].set_title('Members Trip duration')\n",
    "\n",
    "# Plot tripduration histogram on rows with `tripduration` < 64\n",
    "cond = (trip_data['usertype'] == 'Member') & (trip_data['tripduration'] <= trip_data['tripduration'].quantile(0.75))\n",
    "temp = trip_data[cond]\n",
    "\n",
    "ax[1, 1].hist(temp['tripduration'], color = 'red')\n",
    "ax[1, 1].plot([temp['tripduration'].mean()]*2, [0, ax[1, 1].get_ylim()[1]], color = 'black')\n",
    "ax[1, 1].set_title('<= Q3')\n",
    "\n",
    "fig.tight_layout()\n",
    "plt.show()"
   ]
  },
  {
   "cell_type": "code",
   "execution_count": 199,
   "id": "89fdddb0",
   "metadata": {},
   "outputs": [
    {
     "data": {
      "text/html": [
       "<div>\n",
       "<style scoped>\n",
       "    .dataframe tbody tr th:only-of-type {\n",
       "        vertical-align: middle;\n",
       "    }\n",
       "\n",
       "    .dataframe tbody tr th {\n",
       "        vertical-align: top;\n",
       "    }\n",
       "\n",
       "    .dataframe thead th {\n",
       "        text-align: right;\n",
       "    }\n",
       "</style>\n",
       "<table border=\"1\" class=\"dataframe\">\n",
       "  <thead>\n",
       "    <tr style=\"text-align: right;\">\n",
       "      <th></th>\n",
       "      <th>trip_id</th>\n",
       "      <th>bikeid</th>\n",
       "      <th>tripduration</th>\n",
       "      <th>from_station_id</th>\n",
       "      <th>to_station_id</th>\n",
       "      <th>ride_length</th>\n",
       "      <th>day_of_week</th>\n",
       "      <th>start_hour</th>\n",
       "    </tr>\n",
       "  </thead>\n",
       "  <tbody>\n",
       "    <tr>\n",
       "      <th>count</th>\n",
       "      <td>3.503980e+05</td>\n",
       "      <td>350398.000000</td>\n",
       "      <td>350398.000000</td>\n",
       "      <td>350398.000000</td>\n",
       "      <td>350398.000000</td>\n",
       "      <td>350398</td>\n",
       "      <td>350398.000000</td>\n",
       "      <td>350398.000000</td>\n",
       "    </tr>\n",
       "    <tr>\n",
       "      <th>mean</th>\n",
       "      <td>2.407586e+07</td>\n",
       "      <td>3318.018231</td>\n",
       "      <td>784.315730</td>\n",
       "      <td>196.019455</td>\n",
       "      <td>198.701014</td>\n",
       "      <td>0 days 00:13:04.655534563</td>\n",
       "      <td>3.415710</td>\n",
       "      <td>14.577341</td>\n",
       "    </tr>\n",
       "    <tr>\n",
       "      <th>std</th>\n",
       "      <td>1.018602e+06</td>\n",
       "      <td>1883.141430</td>\n",
       "      <td>295.073394</td>\n",
       "      <td>157.077392</td>\n",
       "      <td>159.172020</td>\n",
       "      <td>0 days 00:04:55.123839589</td>\n",
       "      <td>2.003358</td>\n",
       "      <td>4.627735</td>\n",
       "    </tr>\n",
       "    <tr>\n",
       "      <th>min</th>\n",
       "      <td>2.174246e+07</td>\n",
       "      <td>1.000000</td>\n",
       "      <td>61.000000</td>\n",
       "      <td>1.000000</td>\n",
       "      <td>1.000000</td>\n",
       "      <td>0 days 00:01:01</td>\n",
       "      <td>0.000000</td>\n",
       "      <td>0.000000</td>\n",
       "    </tr>\n",
       "    <tr>\n",
       "      <th>25%</th>\n",
       "      <td>2.331157e+07</td>\n",
       "      <td>1679.000000</td>\n",
       "      <td>554.000000</td>\n",
       "      <td>76.000000</td>\n",
       "      <td>75.000000</td>\n",
       "      <td>0 days 00:09:14</td>\n",
       "      <td>2.000000</td>\n",
       "      <td>12.000000</td>\n",
       "    </tr>\n",
       "    <tr>\n",
       "      <th>50%</th>\n",
       "      <td>2.413963e+07</td>\n",
       "      <td>3383.000000</td>\n",
       "      <td>795.000000</td>\n",
       "      <td>165.000000</td>\n",
       "      <td>168.000000</td>\n",
       "      <td>0 days 00:13:15</td>\n",
       "      <td>4.000000</td>\n",
       "      <td>15.000000</td>\n",
       "    </tr>\n",
       "    <tr>\n",
       "      <th>75%</th>\n",
       "      <td>2.489298e+07</td>\n",
       "      <td>4954.000000</td>\n",
       "      <td>1032.000000</td>\n",
       "      <td>288.000000</td>\n",
       "      <td>289.000000</td>\n",
       "      <td>0 days 00:17:12</td>\n",
       "      <td>5.000000</td>\n",
       "      <td>18.000000</td>\n",
       "    </tr>\n",
       "    <tr>\n",
       "      <th>max</th>\n",
       "      <td>2.596285e+07</td>\n",
       "      <td>6946.000000</td>\n",
       "      <td>1282.000000</td>\n",
       "      <td>673.000000</td>\n",
       "      <td>673.000000</td>\n",
       "      <td>0 days 01:11:32</td>\n",
       "      <td>6.000000</td>\n",
       "      <td>23.000000</td>\n",
       "    </tr>\n",
       "  </tbody>\n",
       "</table>\n",
       "</div>"
      ],
      "text/plain": [
       "            trip_id         bikeid   tripduration  from_station_id  \\\n",
       "count  3.503980e+05  350398.000000  350398.000000    350398.000000   \n",
       "mean   2.407586e+07    3318.018231     784.315730       196.019455   \n",
       "std    1.018602e+06    1883.141430     295.073394       157.077392   \n",
       "min    2.174246e+07       1.000000      61.000000         1.000000   \n",
       "25%    2.331157e+07    1679.000000     554.000000        76.000000   \n",
       "50%    2.413963e+07    3383.000000     795.000000       165.000000   \n",
       "75%    2.489298e+07    4954.000000    1032.000000       288.000000   \n",
       "max    2.596285e+07    6946.000000    1282.000000       673.000000   \n",
       "\n",
       "       to_station_id                ride_length    day_of_week     start_hour  \n",
       "count  350398.000000                     350398  350398.000000  350398.000000  \n",
       "mean      198.701014  0 days 00:13:04.655534563       3.415710      14.577341  \n",
       "std       159.172020  0 days 00:04:55.123839589       2.003358       4.627735  \n",
       "min         1.000000            0 days 00:01:01       0.000000       0.000000  \n",
       "25%        75.000000            0 days 00:09:14       2.000000      12.000000  \n",
       "50%       168.000000            0 days 00:13:15       4.000000      15.000000  \n",
       "75%       289.000000            0 days 00:17:12       5.000000      18.000000  \n",
       "max       673.000000            0 days 01:11:32       6.000000      23.000000  "
      ]
     },
     "execution_count": 199,
     "metadata": {},
     "output_type": "execute_result"
    }
   ],
   "source": [
    "cond = (trip_data['usertype'] == 'Casual') & (trip_data['tripduration'] <= trip_data['tripduration'].quantile(0.75))\n",
    "temp = trip_data[cond]\n",
    "temp.describe()"
   ]
  },
  {
   "cell_type": "markdown",
   "id": "22ba537d",
   "metadata": {},
   "source": [
    "**Notes**\n",
    "\n",
    "- Both histogram of `Casual` and `Member` are left-skewed.\n",
    "- The better convergence of `Member` `tripduration` might suggest that these users use Cyclistic for defined purposes. On the contrary, `Casual` histogram shows a wider spread of `tripduration`, which I assume that they have more leisure time at hand.\n",
    "- The `<= Q3` charts show more clearly how different users of `Casual` or `Member` spend their time with the service."
   ]
  },
  {
   "cell_type": "markdown",
   "id": "332c9401",
   "metadata": {},
   "source": [
    "### Difference in the `start_hour` of each `usertype` trip [3]\n",
    "\n",
    " <a id='[3]'></a>"
   ]
  },
  {
   "cell_type": "code",
   "execution_count": 181,
   "id": "6351e456",
   "metadata": {},
   "outputs": [],
   "source": [
    "temp = trip_data.pivot_table(index = 'start_hour', columns = 'usertype', values = 'trip_id', aggfunc = 'count')"
   ]
  },
  {
   "cell_type": "code",
   "execution_count": 197,
   "id": "b279dc3e",
   "metadata": {},
   "outputs": [
    {
     "data": {
      "image/png": "[encoded data removed]",
      "text/plain": [
       "<Figure size 936x576 with 1 Axes>"
      ]
     },
     "metadata": {
      "needs_background": "light"
     },
     "output_type": "display_data"
    }
   ],
   "source": [
    "temp.plot.bar(figsize = (13, 8))\n",
    "\n",
    "plt.xlabel('Hour')\n",
    "plt.ylabel('Count of trips')\n",
    "plt.title('Count of trips throughout the day')\n",
    "\n",
    "plt.xticks(rotation=45)\n",
    "\n",
    "plt.show()"
   ]
  },
  {
   "cell_type": "markdown",
   "id": "f8b48b16",
   "metadata": {},
   "source": [
    "**Notes**\n",
    "\n",
    "- The bar chart shows that the number of trips from `Member` peaked around `7 to 8 o'clock` and `16 to 17 o'clock`, which matches the usual working hours. On the contrary, `Casual` users mostly active from noon to early evening hours."
   ]
  },
  {
   "cell_type": "markdown",
   "id": "a1ada561",
   "metadata": {},
   "source": [
    "--------------------"
   ]
  },
  {
   "cell_type": "markdown",
   "id": "b2ab22f9",
   "metadata": {},
   "source": [
    "# STEP 5: SHARE"
   ]
  },
  {
   "cell_type": "markdown",
   "id": "0cd744e5",
   "metadata": {},
   "source": [
    "I have created a dashboard for this case study. You can find it [here]()!"
   ]
  },
  {
   "cell_type": "markdown",
   "id": "5aede637",
   "metadata": {},
   "source": [
    "-----------------------"
   ]
  },
  {
   "cell_type": "markdown",
   "id": "4321a9fe",
   "metadata": {},
   "source": [
    "# STEP 6: ACT"
   ]
  },
  {
   "cell_type": "markdown",
   "id": "2ec77fc0",
   "metadata": {},
   "source": [
    "Let's re-visit three business questions we proposed before."
   ]
  },
  {
   "cell_type": "markdown",
   "id": "ebd62906",
   "metadata": {},
   "source": [
    "**1.** How do annual members and casual riders use Cyclistic bikes differently?\n",
    "\n",
    "**2.** Why would casual riders buy Cyclistic annual memberships?\n",
    "\n",
    "**3.** How can Cyclistic use digital media to influence casual riders to become members?"
   ]
  },
  {
   "cell_type": "markdown",
   "id": "2fd44459",
   "metadata": {},
   "source": [
    "For `Question 2`, I think that the current data is not sufficient enough to answer because it essentially lacks the information when users first became `Cyclistic` member or general information about the customers. Because of this, I couldn't really answer `questions 3` as well. "
   ]
  },
  {
   "cell_type": "markdown",
   "id": "5b1dfb31",
   "metadata": {},
   "source": [
    "About **Question 1**\n",
    "\n",
    "- Combine [[1](#[1])], [[2](#[2])], [[3](#[3])] in [[STEP 4](#STEP_4:_ANALYZE)], I have concluded some notes:\n",
    "    \n",
    "    | Aspect | Member | Casual |\n",
    "    | ------ | ------ | ------ |\n",
    "    |Occurence|Mostly on work days|Mostly on the weekend|\n",
    "    |Average duration for trip| ~ 10 minutes|~ 13 minutes|\n",
    "    |Hours of a day|peaked around `7 to 8 o'clock` and `16 to 17 o'clock`|from noon to early evening hours|\n",
    "    \n",
    "    \n",
    "- From the above, it's safe to say that the differences between them are when and how much time they use the service.\n",
    "    - `Member` customers use the service regularly but their rides are often short. My assumption is that they use Cyclistic to commute to work.\n",
    "    - On the other hand, `Casual` riders trips are fewer but often longer. I assume that they mostly use Cyclistic bikes for entertainment or emergency situations, which is why they don't really need the annual membership as they don't use the service often."
   ]
  },
  {
   "cell_type": "markdown",
   "id": "a07c45db",
   "metadata": {},
   "source": [
    "## Recommendations"
   ]
  },
  {
   "cell_type": "markdown",
   "id": "55730657",
   "metadata": {},
   "source": [
    "To encourage `Casual` riders subscribe to the annual membership. I have a few recommendations:"
   ]
  },
  {
   "cell_type": "markdown",
   "id": "a4cc9440",
   "metadata": {},
   "source": [
    "`1.` Because `Casual` riders spend more time cycling than `Member`, which may equal to longer rides, Cyclistic could offer rewards when they ride longer if they have a membership. More than that, given how regular `Member` use the service, the company could offer prizes for the number of times they use the bike.\n",
    "\n",
    "`2.` Cyclistic could offer new features such as calory calculator, a leaderboard, ... for the annual membership program.\n",
    "\n",
    "`3.` Actively advertising in the weekend as this is the time `Casual` use the service most."
   ]
  },
  {
   "cell_type": "markdown",
   "id": "1fc876f5",
   "metadata": {},
   "source": [
    "---------------"
   ]
  },
  {
   "cell_type": "markdown",
   "id": "5ac15058",
   "metadata": {},
   "source": [
    "# THE END"
   ]
  }
 ],
 "metadata": {
  "kernelspec": {
   "display_name": "Python 3 (ipykernel)",
   "language": "python",
   "name": "python3"
  },
  "language_info": {
   "codemirror_mode": {
    "name": "ipython",
    "version": 3
   },
   "file_extension": ".py",
   "mimetype": "text/x-python",
   "name": "python",
   "nbconvert_exporter": "python",
   "pygments_lexer": "ipython3",
   "version": "3.9.12"
  }
 },
 "nbformat": 4,
 "nbformat_minor": 5
}
